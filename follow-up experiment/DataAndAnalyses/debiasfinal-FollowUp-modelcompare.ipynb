{
 "cells": [
  {
   "cell_type": "code",
   "execution_count": 1,
   "metadata": {},
   "outputs": [],
   "source": [
    "import os\n",
    "\n",
    "import pandas as pd\n",
    "import numpy as np\n",
    "from scipy import stats\n",
    "from scipy import io as sio\n",
    "from scipy.optimize import least_squares\n",
    "import matplotlib.pyplot as plt\n",
    "from matplotlib import patches"
   ]
  },
  {
   "cell_type": "code",
   "execution_count": 2,
   "metadata": {},
   "outputs": [],
   "source": [
    "def wrp(x):\n",
    "    bigger90=x>np.pi/2\n",
    "    smaller90=x<-np.pi/2\n",
    "    x[bigger90]=x[bigger90]-np.pi\n",
    "    x[smaller90]=x[smaller90]+np.pi\n",
    "    return x\n",
    "def wrpdeg(x):\n",
    "    bigger90=x>90\n",
    "    smaller90=x<-90\n",
    "    x[bigger90]=x[bigger90]-180\n",
    "    x[smaller90]=x[smaller90]+180\n",
    "    return x"
   ]
  },
  {
   "cell_type": "code",
   "execution_count": 3,
   "metadata": {},
   "outputs": [
    {
     "data": {
      "text/plain": [
       "(15544, 25)"
      ]
     },
     "execution_count": 3,
     "metadata": {},
     "output_type": "execute_result"
    }
   ],
   "source": [
    "df=pd.read_csv('preposed_rt_rs.csv')\n",
    "df.shape"
   ]
  },
  {
   "cell_type": "code",
   "execution_count": 4,
   "metadata": {},
   "outputs": [
    {
     "data": {
      "text/html": [
       "<div>\n",
       "<style scoped>\n",
       "    .dataframe tbody tr th:only-of-type {\n",
       "        vertical-align: middle;\n",
       "    }\n",
       "\n",
       "    .dataframe tbody tr th {\n",
       "        vertical-align: top;\n",
       "    }\n",
       "\n",
       "    .dataframe thead th {\n",
       "        text-align: right;\n",
       "    }\n",
       "</style>\n",
       "<table border=\"1\" class=\"dataframe\">\n",
       "  <thead>\n",
       "    <tr style=\"text-align: right;\">\n",
       "      <th></th>\n",
       "      <th>abs_angle_diff</th>\n",
       "      <th>abs_angle_diff_de</th>\n",
       "    </tr>\n",
       "    <tr>\n",
       "      <th>sub</th>\n",
       "      <th></th>\n",
       "      <th></th>\n",
       "    </tr>\n",
       "  </thead>\n",
       "  <tbody>\n",
       "    <tr>\n",
       "      <th>1</th>\n",
       "      <td>7.348737</td>\n",
       "      <td>2.698339</td>\n",
       "    </tr>\n",
       "    <tr>\n",
       "      <th>2</th>\n",
       "      <td>11.891938</td>\n",
       "      <td>5.221226</td>\n",
       "    </tr>\n",
       "    <tr>\n",
       "      <th>3</th>\n",
       "      <td>9.716592</td>\n",
       "      <td>5.224159</td>\n",
       "    </tr>\n",
       "    <tr>\n",
       "      <th>5</th>\n",
       "      <td>7.155765</td>\n",
       "      <td>3.244711</td>\n",
       "    </tr>\n",
       "    <tr>\n",
       "      <th>6</th>\n",
       "      <td>16.878181</td>\n",
       "      <td>8.176792</td>\n",
       "    </tr>\n",
       "    <tr>\n",
       "      <th>7</th>\n",
       "      <td>10.155733</td>\n",
       "      <td>6.931905</td>\n",
       "    </tr>\n",
       "    <tr>\n",
       "      <th>8</th>\n",
       "      <td>12.049206</td>\n",
       "      <td>5.493938</td>\n",
       "    </tr>\n",
       "    <tr>\n",
       "      <th>9</th>\n",
       "      <td>8.769166</td>\n",
       "      <td>5.535028</td>\n",
       "    </tr>\n",
       "    <tr>\n",
       "      <th>11</th>\n",
       "      <td>8.735768</td>\n",
       "      <td>4.102143</td>\n",
       "    </tr>\n",
       "    <tr>\n",
       "      <th>12</th>\n",
       "      <td>6.097875</td>\n",
       "      <td>4.249683</td>\n",
       "    </tr>\n",
       "    <tr>\n",
       "      <th>13</th>\n",
       "      <td>8.053759</td>\n",
       "      <td>4.875031</td>\n",
       "    </tr>\n",
       "    <tr>\n",
       "      <th>14</th>\n",
       "      <td>19.271008</td>\n",
       "      <td>7.777154</td>\n",
       "    </tr>\n",
       "    <tr>\n",
       "      <th>15</th>\n",
       "      <td>11.551592</td>\n",
       "      <td>7.530115</td>\n",
       "    </tr>\n",
       "    <tr>\n",
       "      <th>16</th>\n",
       "      <td>7.655388</td>\n",
       "      <td>3.635824</td>\n",
       "    </tr>\n",
       "    <tr>\n",
       "      <th>17</th>\n",
       "      <td>9.409214</td>\n",
       "      <td>5.213571</td>\n",
       "    </tr>\n",
       "    <tr>\n",
       "      <th>18</th>\n",
       "      <td>8.624133</td>\n",
       "      <td>5.148719</td>\n",
       "    </tr>\n",
       "    <tr>\n",
       "      <th>19</th>\n",
       "      <td>7.318658</td>\n",
       "      <td>5.044652</td>\n",
       "    </tr>\n",
       "    <tr>\n",
       "      <th>20</th>\n",
       "      <td>11.174734</td>\n",
       "      <td>6.250974</td>\n",
       "    </tr>\n",
       "    <tr>\n",
       "      <th>21</th>\n",
       "      <td>9.856497</td>\n",
       "      <td>5.312572</td>\n",
       "    </tr>\n",
       "    <tr>\n",
       "      <th>22</th>\n",
       "      <td>14.127809</td>\n",
       "      <td>6.153292</td>\n",
       "    </tr>\n",
       "    <tr>\n",
       "      <th>23</th>\n",
       "      <td>6.236271</td>\n",
       "      <td>3.797070</td>\n",
       "    </tr>\n",
       "    <tr>\n",
       "      <th>24</th>\n",
       "      <td>9.488224</td>\n",
       "      <td>4.246259</td>\n",
       "    </tr>\n",
       "    <tr>\n",
       "      <th>25</th>\n",
       "      <td>11.611892</td>\n",
       "      <td>5.955995</td>\n",
       "    </tr>\n",
       "    <tr>\n",
       "      <th>27</th>\n",
       "      <td>12.499240</td>\n",
       "      <td>6.798788</td>\n",
       "    </tr>\n",
       "    <tr>\n",
       "      <th>28</th>\n",
       "      <td>5.733723</td>\n",
       "      <td>4.719489</td>\n",
       "    </tr>\n",
       "  </tbody>\n",
       "</table>\n",
       "</div>"
      ],
      "text/plain": [
       "     abs_angle_diff  abs_angle_diff_de\n",
       "sub                                   \n",
       "1          7.348737           2.698339\n",
       "2         11.891938           5.221226\n",
       "3          9.716592           5.224159\n",
       "5          7.155765           3.244711\n",
       "6         16.878181           8.176792\n",
       "7         10.155733           6.931905\n",
       "8         12.049206           5.493938\n",
       "9          8.769166           5.535028\n",
       "11         8.735768           4.102143\n",
       "12         6.097875           4.249683\n",
       "13         8.053759           4.875031\n",
       "14        19.271008           7.777154\n",
       "15        11.551592           7.530115\n",
       "16         7.655388           3.635824\n",
       "17         9.409214           5.213571\n",
       "18         8.624133           5.148719\n",
       "19         7.318658           5.044652\n",
       "20        11.174734           6.250974\n",
       "21         9.856497           5.312572\n",
       "22        14.127809           6.153292\n",
       "23         6.236271           3.797070\n",
       "24         9.488224           4.246259\n",
       "25        11.611892           5.955995\n",
       "27        12.499240           6.798788\n",
       "28         5.733723           4.719489"
      ]
     },
     "execution_count": 4,
     "metadata": {},
     "output_type": "execute_result"
    }
   ],
   "source": [
    "# precision ACROSS subjects\n",
    "rdf=df[df['debadtrial']!=True]\n",
    "precisiondf=rdf[['sub','abs_angle_diff','abs_angle_diff_de']].groupby('sub').mean()\n",
    "precisiondf"
   ]
  },
  {
   "cell_type": "code",
   "execution_count": 5,
   "metadata": {},
   "outputs": [
    {
     "name": "stdout",
     "output_type": "stream",
     "text": [
      "1-item trial\n",
      "5.333497128680767  ±  1.367003956137672\n",
      "3-item trial\n",
      "10.05644403931695  ±  3.1972479917157783\n"
     ]
    }
   ],
   "source": [
    "print(\"1-item trial\")\n",
    "print(np.mean(np.array(precisiondf['abs_angle_diff_de'])),\" ± \",np.std(np.array(precisiondf['abs_angle_diff_de'])))\n",
    "print(\"3-item trial\")\n",
    "print(np.mean(np.array(precisiondf['abs_angle_diff'])),\" ± \",np.std(np.array(precisiondf['abs_angle_diff'])))"
   ]
  },
  {
   "cell_type": "code",
   "execution_count": 6,
   "metadata": {},
   "outputs": [
    {
     "name": "stdout",
     "output_type": "stream",
     "text": [
      "0.2969816835752013\n"
     ]
    },
    {
     "name": "stderr",
     "output_type": "stream",
     "text": [
      "C:\\ProgramData\\Anaconda3\\lib\\site-packages\\ipykernel_launcher.py:3: SettingWithCopyWarning: \n",
      "A value is trying to be set on a copy of a slice from a DataFrame.\n",
      "Try using .loc[row_indexer,col_indexer] = value instead\n",
      "\n",
      "See the caveats in the documentation: https://pandas.pydata.org/pandas-docs/stable/user_guide/indexing.html#returning-a-view-versus-a-copy\n",
      "  This is separate from the ipykernel package so we can avoid doing imports until\n"
     ]
    }
   ],
   "source": [
    "meanbias=np.nanmean(np.array(rdf['angle_diff_de']))\n",
    "print(meanbias)\n",
    "rdf['angle_diff_de']=wrpdeg(rdf['angle_diff_de']-meanbias)\n",
    "hdf=rdf[rdf['condition']==1]\n",
    "ldf=rdf[rdf['condition']==0]"
   ]
  },
  {
   "cell_type": "code",
   "execution_count": 7,
   "metadata": {},
   "outputs": [],
   "source": [
    "# get numss\n",
    "hpmidirec=np.array(hdf['pmi_ori'])\n",
    "himidirec=np.array(hdf['imi_ori'])\n",
    "hcdirec=np.array(hdf['c_ori'])\n",
    "hdedirec=np.array(hdf['ori_to_report_de_convt'])\n",
    "hdeerror=np.array(hdf['angle_diff_de'])\n",
    "\n",
    "lpmidirec=np.array(ldf['pmi_ori'])\n",
    "limidirec=np.array(ldf['imi_ori'])\n",
    "lcdirec=np.array(ldf['c_ori'])\n",
    "ldedirec=np.array(ldf['ori_to_report_de_convt'])\n",
    "ldeerror=np.array(ldf['angle_diff_de'])\n",
    "\n",
    "\n",
    "h_pmi = np.deg2rad(hpmidirec)\n",
    "h_imi = np.deg2rad(himidirec)\n",
    "h_c = np.deg2rad(hcdirec)\n",
    "h_de = np.deg2rad(hdedirec)\n",
    "\n",
    "\n",
    "l_pmi = np.deg2rad(lpmidirec)\n",
    "l_imi = np.deg2rad(limidirec)\n",
    "l_c = np.deg2rad(lcdirec)\n",
    "l_de = np.deg2rad(ldedirec)\n",
    "\n",
    "h_deerror = np.deg2rad(hdeerror)\n",
    "l_deerror = np.deg2rad(ldeerror)\n",
    "\n",
    "highdf=pd.DataFrame(data={'pmi':h_pmi,'imi':h_imi,'c':h_c,'de':h_de,'de_error':h_deerror})\n",
    "lowdf=pd.DataFrame(data={'pmi':l_pmi,'imi':l_imi,'c':l_c,'de':l_de,'de_error':l_deerror})"
   ]
  },
  {
   "cell_type": "code",
   "execution_count": 8,
   "metadata": {},
   "outputs": [],
   "source": [
    "def dog(x, a, w):\n",
    "    c = np.sqrt(2) / np.exp(-0.5)\n",
    "    return x * a * w * c * np.exp(-(w * x) ** 2)\n",
    "\n",
    "\n",
    "def fit_dog(y, x):\n",
    "\n",
    "    def _solver(params):\n",
    "        a, w = params\n",
    "        return y - dog(x, a, w)\n",
    "\n",
    "    min_a = -np.pi/2\n",
    "    max_a = np.pi/2\n",
    "\n",
    "    min_w = 0.8\n",
    "    max_w = 8.0\n",
    "\n",
    "    min_cost = np.inf\n",
    "    for _ in range(200):\n",
    "        params_0 = [np.random.rand() * (max_a - min_a) + min_a,\n",
    "                    np.random.rand() * (max_w - min_w) + min_w]\n",
    "        try:\n",
    "            result = least_squares(_solver, params_0,\n",
    "                                   bounds=([min_a, min_w],\n",
    "                                           [max_a, max_w]))\n",
    "        except ValueError:\n",
    "            continue\n",
    "        if result['cost'] < min_cost:\n",
    "            best_params, min_cost = result['x'], result['cost']\n",
    "    try:\n",
    "        return best_params[0], best_params[1], min_cost\n",
    "    except UnboundLocalError:\n",
    "        return np.nan, np.nan, min_cost"
   ]
  },
  {
   "cell_type": "code",
   "execution_count": 9,
   "metadata": {},
   "outputs": [],
   "source": [
    "def indirect(a1, w1,a2,w2,imi,c,de):\n",
    "    d_c_imi=wrp(imi-c)\n",
    "    bias_c=dog(d_c_imi, a1, w1)\n",
    "    c_prime=wrp(c+bias_c)\n",
    "    d_de_cprime=wrp(c_prime-de)\n",
    "    bias_de = dog(d_de_cprime, a2, w2)\n",
    "\n",
    "    return bias_de\n",
    "\n",
    "def fit_indirect(y, imi,c,de):\n",
    "\n",
    "    def _solver(params):\n",
    "        a1, w1,a2,w2 = params\n",
    "        return y - indirect(a1, w1,a2,w2,imi,c,de)\n",
    "\n",
    "    min_a = -np.pi/2\n",
    "    max_a = np.pi/2\n",
    "\n",
    "    min_w = 0.8\n",
    "    max_w = 8.0\n",
    "\n",
    "    min_cost = np.inf\n",
    "    for _ in range(200):\n",
    "        params_0 = [np.random.rand() * (max_a - min_a) + min_a,\n",
    "                    np.random.rand() * (max_w - min_w) + min_w,\n",
    "                    np.random.rand() * (max_a - min_a) + min_a,\n",
    "                    np.random.rand() * (max_w - min_w) + min_w]\n",
    "        try:\n",
    "            result = least_squares(_solver, params_0,\n",
    "                                   bounds=([min_a, min_w,min_a, min_w],[max_a, max_w,max_a, max_w]))\n",
    "        except ValueError:\n",
    "            continue\n",
    "        if result['cost'] < min_cost:\n",
    "            best_params, min_cost = result['x'], result['cost']\n",
    "    try:\n",
    "        return best_params, min_cost\n",
    "    except UnboundLocalError:\n",
    "        return np.nan, np.nan\n",
    "    \n",
    "def direct(a1, w1,imi,de):\n",
    "    d_de_imi=wrp(imi-de)\n",
    "    bias_de = dog(d_de_imi, a1, w1)\n",
    "\n",
    "    return bias_de\n",
    "\n",
    "def fit_direct(y, imi,de):\n",
    "\n",
    "    def _solver(params):\n",
    "        a1, w1 = params\n",
    "        return y - direct(a1, w1,imi,de)\n",
    "\n",
    "    min_a = -np.pi/2\n",
    "    max_a = np.pi/2\n",
    "\n",
    "    min_w = 0.8\n",
    "    max_w = 8.0\n",
    "\n",
    "    min_cost = np.inf\n",
    "    for _ in range(200):\n",
    "        params_0 = [np.random.rand() * (max_a - min_a) + min_a,\n",
    "                    np.random.rand() * (max_w - min_w) + min_w]\n",
    "        try:\n",
    "            result = least_squares(_solver, params_0,\n",
    "                                   bounds=([min_a, min_w],[max_a, max_w]))\n",
    "        except ValueError:\n",
    "            continue\n",
    "        if result['cost'] < min_cost:\n",
    "            best_params, min_cost = result['x'], result['cost']\n",
    "    try:\n",
    "        return best_params, min_cost\n",
    "    except UnboundLocalError:\n",
    "        return np.nan, np.nan\n",
    "    \n",
    "def fit_zero(y):\n",
    "\n",
    "    def _solver(params):\n",
    "        a1, w1 = params\n",
    "        return y - 0\n",
    "\n",
    "    min_a = -np.pi/2\n",
    "    max_a = np.pi/2\n",
    "\n",
    "    min_w = 0.8\n",
    "    max_w = 8.0\n",
    "\n",
    "    min_cost = np.inf\n",
    "    for _ in range(200):\n",
    "        params_0 = [np.random.rand() * (max_a - min_a) + min_a,\n",
    "                    np.random.rand() * (max_w - min_w) + min_w]\n",
    "        try:\n",
    "            result = least_squares(_solver, params_0,\n",
    "                                   bounds=([min_a, min_w],[max_a, max_w]))\n",
    "        except ValueError:\n",
    "            continue\n",
    "        if result['cost'] < min_cost:\n",
    "            best_params, min_cost = result['x'], result['cost']\n",
    "    try:\n",
    "        return best_params, min_cost\n",
    "    except UnboundLocalError:\n",
    "        return np.nan, np.nan"
   ]
  },
  {
   "cell_type": "code",
   "execution_count": 10,
   "metadata": {},
   "outputs": [
    {
     "name": "stdout",
     "output_type": "stream",
     "text": [
      "HIGH indirect model AICc:\n",
      "-31693.038077670568\n",
      "HIGH direct model AICc:\n",
      "-31681.366651378754\n",
      "HIGH null model AICc:\n",
      "-31671.17154959448\n"
     ]
    }
   ],
   "source": [
    "# AIC=n*log(SSR/n)+2k\n",
    "# AICc=AIC+2k(k+1)/(n-k-1)\n",
    "\n",
    "h_indirect_para,h_indirect_SSR=fit_indirect(h_deerror, h_imi,h_c,h_de)\n",
    "h_indirect_SSR=h_indirect_SSR*2\n",
    "n=len(h_deerror)\n",
    "n_para=4\n",
    "print('HIGH indirect model AICc:')\n",
    "print(n*np.log(h_indirect_SSR/n)+2*n_para+2*n_para*(n_para+1)/(n-n_para-1))\n",
    "\n",
    "h_direct_para,h_direct_SSR=fit_direct(h_deerror, h_imi,h_de)\n",
    "h_direct_SSR=h_direct_SSR*2\n",
    "n=len(h_deerror)\n",
    "n_para=2\n",
    "print('HIGH direct model AICc:')\n",
    "print(n*np.log(h_direct_SSR/n)+2*n_para+2*n_para*(n_para+1)/(n-n_para-1))\n",
    "\n",
    "h_zero_para,h_zero_SSR=fit_zero(h_deerror)\n",
    "h_zero_SSR=h_zero_SSR*2\n",
    "n=len(h_deerror)\n",
    "n_para=0\n",
    "print('HIGH null model AICc:')\n",
    "print(n*np.log(h_zero_SSR/n)+2*n_para+2*n_para*(n_para+1)/(n-n_para-1))"
   ]
  },
  {
   "cell_type": "code",
   "execution_count": 11,
   "metadata": {},
   "outputs": [
    {
     "name": "stdout",
     "output_type": "stream",
     "text": [
      "-11.671426291813987\n",
      "-10.195101784272993\n"
     ]
    }
   ],
   "source": [
    "print(-31693.038077670568-(-31681.366651378754))\n",
    "print(-31681.366651378754-(-31671.17154959448))"
   ]
  },
  {
   "cell_type": "code",
   "execution_count": 12,
   "metadata": {},
   "outputs": [
    {
     "data": {
      "text/plain": [
       "array([-0.31478224,  2.45174923,  0.01510491,  2.23907238])"
      ]
     },
     "execution_count": 12,
     "metadata": {},
     "output_type": "execute_result"
    }
   ],
   "source": [
    "h_indirect_para"
   ]
  },
  {
   "cell_type": "code",
   "execution_count": 13,
   "metadata": {},
   "outputs": [
    {
     "name": "stdout",
     "output_type": "stream",
     "text": [
      "LOW indirect model AICc:\n",
      "-31502.115001564704\n",
      "LOW direct model AICc:\n",
      "-31477.955583974785\n",
      "LOW null model AICc:\n",
      "-31477.8603948671\n"
     ]
    }
   ],
   "source": [
    "# AIC=n*log(SSR/n)+2k\n",
    "# AICc=AIC+2k(k+1)/(n-k-1)\n",
    "\n",
    "l_indirect_para,l_indirect_SSR=fit_indirect(l_deerror, l_imi,l_c,l_de)\n",
    "l_indirect_SSR=l_indirect_SSR*2\n",
    "n=len(l_deerror)\n",
    "n_para=4\n",
    "print('LOW indirect model AICc:')\n",
    "print(n*np.log(l_indirect_SSR/n)+2*n_para+2*n_para*(n_para+1)/(n-n_para-1))\n",
    "\n",
    "l_direct_para,l_direct_SSR=fit_direct(l_deerror, l_imi,l_de)\n",
    "l_direct_SSR=l_direct_SSR*2\n",
    "n=len(l_deerror)\n",
    "n_para=2\n",
    "print('LOW direct model AICc:')\n",
    "print(n*np.log(l_direct_SSR/n)+2*n_para+2*n_para*(n_para+1)/(n-n_para-1))\n",
    "\n",
    "l_zero_para,l_zero_SSR=fit_zero(l_deerror)\n",
    "l_zero_SSR=l_zero_SSR*2\n",
    "n=len(l_deerror)\n",
    "n_para=0\n",
    "print('LOW null model AICc:')\n",
    "print(n*np.log(l_zero_SSR/n)+2*n_para+2*n_para*(n_para+1)/(n-n_para-1))"
   ]
  },
  {
   "cell_type": "code",
   "execution_count": 14,
   "metadata": {},
   "outputs": [
    {
     "name": "stdout",
     "output_type": "stream",
     "text": [
      "-24.15941758991903\n",
      "-0.09518910768383648\n"
     ]
    }
   ],
   "source": [
    "print(-31502.115001564704-(-31477.955583974785))\n",
    "print(-31477.955583974785-(-31477.8603948671))"
   ]
  },
  {
   "cell_type": "code",
   "execution_count": 15,
   "metadata": {},
   "outputs": [
    {
     "data": {
      "text/plain": [
       "array([-1.29917299,  8.        ,  0.0155828 ,  2.1194799 ])"
      ]
     },
     "execution_count": 15,
     "metadata": {},
     "output_type": "execute_result"
    }
   ],
   "source": [
    "l_indirect_para"
   ]
  }
 ],
 "metadata": {
  "kernelspec": {
   "display_name": "Python 3",
   "language": "python",
   "name": "python3"
  },
  "language_info": {
   "codemirror_mode": {
    "name": "ipython",
    "version": 3
   },
   "file_extension": ".py",
   "mimetype": "text/x-python",
   "name": "python",
   "nbconvert_exporter": "python",
   "pygments_lexer": "ipython3",
   "version": "3.7.6"
  }
 },
 "nbformat": 4,
 "nbformat_minor": 4
}
