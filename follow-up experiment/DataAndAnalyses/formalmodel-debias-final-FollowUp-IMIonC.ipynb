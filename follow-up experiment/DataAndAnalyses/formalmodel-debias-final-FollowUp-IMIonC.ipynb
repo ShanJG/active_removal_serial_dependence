{
 "cells": [
  {
   "cell_type": "code",
   "execution_count": 1,
   "metadata": {},
   "outputs": [],
   "source": [
    "import os\n",
    "\n",
    "import pandas as pd\n",
    "import numpy as np\n",
    "from scipy import io as sio\n",
    "from scipy.optimize import least_squares\n",
    "import matplotlib.pyplot as plt\n",
    "from matplotlib import patches"
   ]
  },
  {
   "cell_type": "code",
   "execution_count": 2,
   "metadata": {},
   "outputs": [],
   "source": [
    "def wrp(x):\n",
    "    bigger90=x>np.pi/2\n",
    "    smaller90=x<-np.pi/2\n",
    "    x[bigger90]=x[bigger90]-np.pi\n",
    "    x[smaller90]=x[smaller90]+np.pi\n",
    "    return x\n",
    "def wrpdeg(x):\n",
    "    bigger90=x>90\n",
    "    smaller90=x<-90\n",
    "    x[bigger90]=x[bigger90]-180\n",
    "    x[smaller90]=x[smaller90]+180\n",
    "    return x"
   ]
  },
  {
   "cell_type": "code",
   "execution_count": 3,
   "metadata": {},
   "outputs": [],
   "source": [
    "df=pd.read_csv('preposed_rt_rs.csv')"
   ]
  },
  {
   "cell_type": "code",
   "execution_count": 4,
   "metadata": {},
   "outputs": [
    {
     "data": {
      "text/plain": [
       "(15544, 25)"
      ]
     },
     "execution_count": 4,
     "metadata": {},
     "output_type": "execute_result"
    }
   ],
   "source": [
    "df.shape"
   ]
  },
  {
   "cell_type": "code",
   "execution_count": 5,
   "metadata": {},
   "outputs": [
    {
     "data": {
      "text/html": [
       "<div>\n",
       "<style scoped>\n",
       "    .dataframe tbody tr th:only-of-type {\n",
       "        vertical-align: middle;\n",
       "    }\n",
       "\n",
       "    .dataframe tbody tr th {\n",
       "        vertical-align: top;\n",
       "    }\n",
       "\n",
       "    .dataframe thead th {\n",
       "        text-align: right;\n",
       "    }\n",
       "</style>\n",
       "<table border=\"1\" class=\"dataframe\">\n",
       "  <thead>\n",
       "    <tr style=\"text-align: right;\">\n",
       "      <th></th>\n",
       "      <th>abs_angle_diff</th>\n",
       "      <th>abs_angle_diff_de</th>\n",
       "    </tr>\n",
       "    <tr>\n",
       "      <th>sub</th>\n",
       "      <th></th>\n",
       "      <th></th>\n",
       "    </tr>\n",
       "  </thead>\n",
       "  <tbody>\n",
       "    <tr>\n",
       "      <th>1</th>\n",
       "      <td>7.348737</td>\n",
       "      <td>2.698339</td>\n",
       "    </tr>\n",
       "    <tr>\n",
       "      <th>2</th>\n",
       "      <td>11.891938</td>\n",
       "      <td>5.221226</td>\n",
       "    </tr>\n",
       "    <tr>\n",
       "      <th>3</th>\n",
       "      <td>9.716592</td>\n",
       "      <td>5.224159</td>\n",
       "    </tr>\n",
       "    <tr>\n",
       "      <th>5</th>\n",
       "      <td>7.155765</td>\n",
       "      <td>3.244711</td>\n",
       "    </tr>\n",
       "    <tr>\n",
       "      <th>6</th>\n",
       "      <td>16.878181</td>\n",
       "      <td>8.176792</td>\n",
       "    </tr>\n",
       "    <tr>\n",
       "      <th>7</th>\n",
       "      <td>10.155733</td>\n",
       "      <td>6.931905</td>\n",
       "    </tr>\n",
       "    <tr>\n",
       "      <th>8</th>\n",
       "      <td>12.049206</td>\n",
       "      <td>5.493938</td>\n",
       "    </tr>\n",
       "    <tr>\n",
       "      <th>9</th>\n",
       "      <td>8.769166</td>\n",
       "      <td>5.535028</td>\n",
       "    </tr>\n",
       "    <tr>\n",
       "      <th>11</th>\n",
       "      <td>8.735768</td>\n",
       "      <td>4.102143</td>\n",
       "    </tr>\n",
       "    <tr>\n",
       "      <th>12</th>\n",
       "      <td>6.097875</td>\n",
       "      <td>4.249683</td>\n",
       "    </tr>\n",
       "    <tr>\n",
       "      <th>13</th>\n",
       "      <td>8.053759</td>\n",
       "      <td>4.875031</td>\n",
       "    </tr>\n",
       "    <tr>\n",
       "      <th>14</th>\n",
       "      <td>19.271008</td>\n",
       "      <td>7.777154</td>\n",
       "    </tr>\n",
       "    <tr>\n",
       "      <th>15</th>\n",
       "      <td>11.551592</td>\n",
       "      <td>7.530115</td>\n",
       "    </tr>\n",
       "    <tr>\n",
       "      <th>16</th>\n",
       "      <td>7.655388</td>\n",
       "      <td>3.635824</td>\n",
       "    </tr>\n",
       "    <tr>\n",
       "      <th>17</th>\n",
       "      <td>9.409214</td>\n",
       "      <td>5.213571</td>\n",
       "    </tr>\n",
       "    <tr>\n",
       "      <th>18</th>\n",
       "      <td>8.624133</td>\n",
       "      <td>5.148719</td>\n",
       "    </tr>\n",
       "    <tr>\n",
       "      <th>19</th>\n",
       "      <td>7.318658</td>\n",
       "      <td>5.044652</td>\n",
       "    </tr>\n",
       "    <tr>\n",
       "      <th>20</th>\n",
       "      <td>11.174734</td>\n",
       "      <td>6.250974</td>\n",
       "    </tr>\n",
       "    <tr>\n",
       "      <th>21</th>\n",
       "      <td>9.856497</td>\n",
       "      <td>5.312572</td>\n",
       "    </tr>\n",
       "    <tr>\n",
       "      <th>22</th>\n",
       "      <td>14.127809</td>\n",
       "      <td>6.153292</td>\n",
       "    </tr>\n",
       "    <tr>\n",
       "      <th>23</th>\n",
       "      <td>6.236271</td>\n",
       "      <td>3.797070</td>\n",
       "    </tr>\n",
       "    <tr>\n",
       "      <th>24</th>\n",
       "      <td>9.488224</td>\n",
       "      <td>4.246259</td>\n",
       "    </tr>\n",
       "    <tr>\n",
       "      <th>25</th>\n",
       "      <td>11.611892</td>\n",
       "      <td>5.955995</td>\n",
       "    </tr>\n",
       "    <tr>\n",
       "      <th>27</th>\n",
       "      <td>12.499240</td>\n",
       "      <td>6.798788</td>\n",
       "    </tr>\n",
       "    <tr>\n",
       "      <th>28</th>\n",
       "      <td>5.733723</td>\n",
       "      <td>4.719489</td>\n",
       "    </tr>\n",
       "  </tbody>\n",
       "</table>\n",
       "</div>"
      ],
      "text/plain": [
       "     abs_angle_diff  abs_angle_diff_de\n",
       "sub                                   \n",
       "1          7.348737           2.698339\n",
       "2         11.891938           5.221226\n",
       "3          9.716592           5.224159\n",
       "5          7.155765           3.244711\n",
       "6         16.878181           8.176792\n",
       "7         10.155733           6.931905\n",
       "8         12.049206           5.493938\n",
       "9          8.769166           5.535028\n",
       "11         8.735768           4.102143\n",
       "12         6.097875           4.249683\n",
       "13         8.053759           4.875031\n",
       "14        19.271008           7.777154\n",
       "15        11.551592           7.530115\n",
       "16         7.655388           3.635824\n",
       "17         9.409214           5.213571\n",
       "18         8.624133           5.148719\n",
       "19         7.318658           5.044652\n",
       "20        11.174734           6.250974\n",
       "21         9.856497           5.312572\n",
       "22        14.127809           6.153292\n",
       "23         6.236271           3.797070\n",
       "24         9.488224           4.246259\n",
       "25        11.611892           5.955995\n",
       "27        12.499240           6.798788\n",
       "28         5.733723           4.719489"
      ]
     },
     "execution_count": 5,
     "metadata": {},
     "output_type": "execute_result"
    }
   ],
   "source": [
    "# precision ACROSS subjects\n",
    "rdf=df[df['debadtrial']!=True]\n",
    "precisiondf=rdf[['sub','abs_angle_diff','abs_angle_diff_de']].groupby('sub').mean()\n",
    "precisiondf"
   ]
  },
  {
   "cell_type": "code",
   "execution_count": 6,
   "metadata": {},
   "outputs": [
    {
     "name": "stdout",
     "output_type": "stream",
     "text": [
      "1-item trial\n",
      "5.333497128680767  ±  1.367003956137672\n",
      "3-item trial\n",
      "10.05644403931695  ±  3.1972479917157783\n"
     ]
    }
   ],
   "source": [
    "print(\"1-item trial\")\n",
    "print(np.mean(np.array(precisiondf['abs_angle_diff_de'])),\" ± \",np.std(np.array(precisiondf['abs_angle_diff_de'])))\n",
    "print(\"3-item trial\")\n",
    "print(np.mean(np.array(precisiondf['abs_angle_diff'])),\" ± \",np.std(np.array(precisiondf['abs_angle_diff'])))"
   ]
  },
  {
   "cell_type": "code",
   "execution_count": 7,
   "metadata": {},
   "outputs": [],
   "source": [
    "## Now the rdf  will be rdftC"
   ]
  },
  {
   "cell_type": "code",
   "execution_count": 7,
   "metadata": {},
   "outputs": [],
   "source": [
    "rdftC=rdf[rdf['cue_probe']==3]\n",
    "rdf=rdftC"
   ]
  },
  {
   "cell_type": "code",
   "execution_count": 8,
   "metadata": {},
   "outputs": [
    {
     "name": "stdout",
     "output_type": "stream",
     "text": [
      "remove bias of C report\n",
      "0.3576508280396888\n"
     ]
    }
   ],
   "source": [
    "print('remove bias of C report')\n",
    "meanbias=np.nanmean(np.array(rdf['angle_diff']))\n",
    "print(meanbias)\n",
    "rdf['angle_diff']=wrpdeg(rdf['angle_diff']-meanbias)\n",
    "hdf=rdf[rdf['condition']==1]\n",
    "ldf=rdf[rdf['condition']==0]\n"
   ]
  },
  {
   "cell_type": "code",
   "execution_count": 9,
   "metadata": {},
   "outputs": [
    {
     "name": "stdout",
     "output_type": "stream",
     "text": [
      "(3724, 25) (3753, 25)\n"
     ]
    }
   ],
   "source": [
    "print(hdf.shape,ldf.shape)"
   ]
  },
  {
   "cell_type": "code",
   "execution_count": null,
   "metadata": {},
   "outputs": [],
   "source": []
  },
  {
   "cell_type": "code",
   "execution_count": 10,
   "metadata": {},
   "outputs": [
    {
     "name": "stderr",
     "output_type": "stream",
     "text": [
      "C:\\ProgramData\\Anaconda3\\lib\\site-packages\\ipykernel_launcher.py:16: SettingWithCopyWarning: \n",
      "A value is trying to be set on a copy of a slice from a DataFrame.\n",
      "Try using .loc[row_indexer,col_indexer] = value instead\n",
      "\n",
      "See the caveats in the documentation: https://pandas.pydata.org/pandas-docs/stable/user_guide/indexing.html#returning-a-view-versus-a-copy\n",
      "  app.launch_new_instance()\n",
      "C:\\ProgramData\\Anaconda3\\lib\\site-packages\\ipykernel_launcher.py:17: SettingWithCopyWarning: \n",
      "A value is trying to be set on a copy of a slice from a DataFrame.\n",
      "Try using .loc[row_indexer,col_indexer] = value instead\n",
      "\n",
      "See the caveats in the documentation: https://pandas.pydata.org/pandas-docs/stable/user_guide/indexing.html#returning-a-view-versus-a-copy\n",
      "C:\\ProgramData\\Anaconda3\\lib\\site-packages\\ipykernel_launcher.py:19: SettingWithCopyWarning: \n",
      "A value is trying to be set on a copy of a slice from a DataFrame.\n",
      "Try using .loc[row_indexer,col_indexer] = value instead\n",
      "\n",
      "See the caveats in the documentation: https://pandas.pydata.org/pandas-docs/stable/user_guide/indexing.html#returning-a-view-versus-a-copy\n",
      "C:\\ProgramData\\Anaconda3\\lib\\site-packages\\ipykernel_launcher.py:20: SettingWithCopyWarning: \n",
      "A value is trying to be set on a copy of a slice from a DataFrame.\n",
      "Try using .loc[row_indexer,col_indexer] = value instead\n",
      "\n",
      "See the caveats in the documentation: https://pandas.pydata.org/pandas-docs/stable/user_guide/indexing.html#returning-a-view-versus-a-copy\n",
      "C:\\ProgramData\\Anaconda3\\lib\\site-packages\\pandas\\core\\indexing.py:965: SettingWithCopyWarning: \n",
      "A value is trying to be set on a copy of a slice from a DataFrame.\n",
      "Try using .loc[row_indexer,col_indexer] = value instead\n",
      "\n",
      "See the caveats in the documentation: https://pandas.pydata.org/pandas-docs/stable/user_guide/indexing.html#returning-a-view-versus-a-copy\n",
      "  self.obj[item] = s\n"
     ]
    }
   ],
   "source": [
    "hpmi=np.array(hdf['pmi_ori'])\n",
    "himi=np.array(hdf['imi_ori'])\n",
    "htar=np.array(hdf['ori_to_report_convt'])\n",
    "lpmi=np.array(ldf['pmi_ori'])\n",
    "limi=np.array(ldf['imi_ori'])\n",
    "ltar=np.array(ldf['ori_to_report_convt'])\n",
    "\n",
    "\n",
    "d_h_pmi = hpmi - htar\n",
    "d_h_imi = himi - htar\n",
    "# d_h_t = htar - np.array(hdf['ori_to_report_de_convt'])\n",
    "d_l_pmi = lpmi - ltar\n",
    "d_l_imi = limi - ltar\n",
    "# d_l_t = ltar - np.array(ldf['ori_to_report_de_convt'])\n",
    "\n",
    "hdf['d_h_pmi']=d_h_pmi\n",
    "hdf['d_h_imi']=d_h_imi\n",
    "# hdf['d_h_t']=d_h_t\n",
    "ldf['d_l_pmi']=d_l_pmi\n",
    "ldf['d_l_imi']=d_l_imi\n",
    "# ldf['d_l_t']=d_l_t\n",
    "\n",
    "for thiscol in ['d_h_pmi','d_h_imi']:\n",
    "    hdf.loc[hdf[thiscol]>90,thiscol]=hdf.loc[hdf[thiscol]>90,thiscol]-180\n",
    "    hdf.loc[hdf[thiscol]<-90,thiscol]=hdf.loc[hdf[thiscol]<-90,thiscol]+180\n",
    "for thiscol in ['d_l_pmi','d_l_imi']:\n",
    "    ldf.loc[ldf[thiscol]>90,thiscol]=ldf.loc[ldf[thiscol]>90,thiscol]-180\n",
    "    ldf.loc[ldf[thiscol]<-90,thiscol]=ldf.loc[ldf[thiscol]<-90,thiscol]+180"
   ]
  },
  {
   "cell_type": "code",
   "execution_count": 11,
   "metadata": {},
   "outputs": [],
   "source": [
    "d_h_pmi = np.array(hdf['d_h_pmi'])\n",
    "d_h_imi = np.array(hdf['d_h_imi'])\n",
    "# d_h_t = np.array(hdf['d_h_t'])\n",
    "d_l_pmi = np.array(ldf['d_l_pmi'])\n",
    "d_l_imi = np.array(ldf['d_l_imi'])\n",
    "# d_l_t = np.array(ldf['d_l_t'])\n",
    "\n",
    "h_error = np.array(hdf['angle_diff'])\n",
    "h_ind = ~np.isnan(h_error)\n",
    "d_h_pmi = np.deg2rad(d_h_pmi[h_ind])\n",
    "d_h_imi = np.deg2rad(d_h_imi[h_ind])\n",
    "# d_h_t = np.deg2rad(d_h_t[h_ind])\n",
    "\n",
    "l_error = np.array(ldf['angle_diff'])\n",
    "l_ind = ~np.isnan(l_error)\n",
    "d_l_pmi = np.deg2rad(d_l_pmi[l_ind])\n",
    "d_l_imi = np.deg2rad(d_l_imi[l_ind])\n",
    "# d_l_t = np.deg2rad(d_l_t[l_ind])\n",
    "\n",
    "h_error_rad = np.deg2rad(h_error[h_ind])\n",
    "l_error_rad = np.deg2rad(l_error[l_ind])\n"
   ]
  },
  {
   "cell_type": "code",
   "execution_count": 12,
   "metadata": {},
   "outputs": [],
   "source": [
    "def dog(x, a, w):\n",
    "    c = np.sqrt(2) / np.exp(-0.5)\n",
    "    return x * a * w * c * np.exp(-(w * x) ** 2)\n",
    "\n",
    "\n",
    "def fit_dog(y, x):\n",
    "\n",
    "    def _solver(params):\n",
    "        a, w = params\n",
    "        return y - dog(x, a, w)\n",
    "\n",
    "    min_a = -np.pi/2\n",
    "    max_a = np.pi/2\n",
    "\n",
    "    min_w = 0.8\n",
    "    max_w = 8.0\n",
    "\n",
    "    min_cost = np.inf\n",
    "    for _ in range(200):\n",
    "        params_0 = [np.random.rand() * (max_a - min_a) + min_a,\n",
    "                    np.random.rand() * (max_w - min_w) + min_w]\n",
    "        try:\n",
    "            result = least_squares(_solver, params_0,\n",
    "                                   bounds=([min_a, min_w],\n",
    "                                           [max_a, max_w]))\n",
    "        except ValueError:\n",
    "            continue\n",
    "        if result['cost'] < min_cost:\n",
    "            best_params, min_cost = result['x'], result['cost']\n",
    "    try:\n",
    "        return best_params[0], best_params[1], min_cost\n",
    "    except UnboundLocalError:\n",
    "        return np.nan, np.nan, min_cost"
   ]
  },
  {
   "cell_type": "code",
   "execution_count": 13,
   "metadata": {},
   "outputs": [],
   "source": [
    "h_pmi_a, h_pmi_w, _ = fit_dog(h_error_rad, d_h_pmi)\n",
    "h_imi_a, h_imi_w, _ = fit_dog(h_error_rad, d_h_imi)\n",
    "# h_t_a, h_t_w, _ = fit_dog(h_error_rad, d_h_t)\n",
    "l_pmi_a, l_pmi_w, _ = fit_dog(l_error_rad, d_l_pmi)\n",
    "l_imi_a, l_imi_w, _ = fit_dog(l_error_rad, d_l_imi)\n",
    "# l_t_a, l_t_w, _ = fit_dog(l_error_rad, d_l_t)\n"
   ]
  },
  {
   "cell_type": "code",
   "execution_count": 14,
   "metadata": {},
   "outputs": [
    {
     "name": "stdout",
     "output_type": "stream",
     "text": [
      "0.02744595901554256 2.1812044768216685\n",
      "0.007758400004172806 1.2292881307380095\n",
      "-0.007964418844472082 1.5187923646352737\n",
      "0.004820125117515008 0.800000000000165\n"
     ]
    }
   ],
   "source": [
    "print(h_imi_a, h_imi_w)\n",
    "print(l_imi_a, l_imi_w)\n",
    "print(h_pmi_a, h_pmi_w)\n",
    "print(l_pmi_a, l_pmi_w)"
   ]
  },
  {
   "cell_type": "code",
   "execution_count": 18,
   "metadata": {},
   "outputs": [
    {
     "name": "stdout",
     "output_type": "stream",
     "text": [
      "3.1450231000269717\n"
     ]
    },
    {
     "data": {
      "text/plain": [
       "[<matplotlib.lines.Line2D at 0x1624c01f9c8>]"
      ]
     },
     "execution_count": 18,
     "metadata": {},
     "output_type": "execute_result"
    },
    {
     "data": {
      "image/png": "[encoded data removed]",
      "text/plain": [
       "<Figure size 648x432 with 1 Axes>"
      ]
     },
     "metadata": {
      "needs_background": "light"
     },
     "output_type": "display_data"
    }
   ],
   "source": [
    "# high conflict influence of IMI  ##test A\n",
    "d_stim = np.array(hdf['d_h_imi'])\n",
    "error = np.array(hdf['angle_diff'])\n",
    "ind = ~np.isnan(error)\n",
    "diff_rad = np.deg2rad(d_stim[ind])\n",
    "error_rad = np.deg2rad(error[ind])\n",
    "\n",
    "ind = diff_rad.argsort()\n",
    "diff_rad = diff_rad[ind]\n",
    "resid_error_rad = error_rad[ind]\n",
    "\n",
    "bin_step=40\n",
    "bin_width=200\n",
    "\n",
    "# Pad the data.\n",
    "diff_rad = np.concatenate([diff_rad[int(-bin_width / 2):] -  np.pi, diff_rad,\n",
    "                            diff_rad[:int(bin_width / 2)] +  np.pi])\n",
    "resid_error_rad = np.concatenate([resid_error_rad[int(-bin_width / 2):],\n",
    "                                    resid_error_rad,\n",
    "                                    resid_error_rad[:int(bin_width / 2)]])\n",
    "\n",
    "# Compute the running average.\n",
    "bin_starts = np.arange(0, len(diff_rad) - bin_width, bin_step)\n",
    "bin_stops = bin_starts + bin_width\n",
    "diff_means = np.empty(len(bin_starts))\n",
    "error_means = np.empty_like(diff_means)\n",
    "error_sem = np.empty_like(error_means)\n",
    "for i in range(len(bin_starts)):\n",
    "    diff_means[i] = diff_rad[bin_starts[i]:bin_stops[i]].mean()\n",
    "    error_selection = resid_error_rad[bin_starts[i]:bin_stops[i]]\n",
    "    error_means[i] = error_selection.mean()\n",
    "    error_sem[i] = error_selection.std() / np.sqrt(len(error_selection))\n",
    "    \n",
    "# Convert to degrees.\n",
    "diff_means = np.rad2deg(diff_means)\n",
    "error_means = np.rad2deg(error_means)\n",
    "error_sem = np.rad2deg(error_sem)\n",
    "\n",
    "plt.figure(figsize=(9, 6))\n",
    "    \n",
    "# Plot the data.\n",
    "plt.plot(diff_means, error_means, 'k', linewidth=1)\n",
    "plt.fill_between(diff_means,\n",
    "                    error_means - error_sem,\n",
    "                    error_means + error_sem,\n",
    "                    alpha=0.25, color='k')\n",
    "\n",
    "plt.axhline(0, color='k', linestyle='--', linewidth=1)\n",
    "\n",
    "theta = np.linspace(-np.pi/2, np.pi/2, 1000)\n",
    "fit = np.rad2deg(dog(theta, h_imi_a, h_imi_w))\n",
    "p2p = np.sign(h_imi_a) * (fit.max() - fit.min())\n",
    "print(p2p)\n",
    "plt.plot(np.rad2deg(theta), fit, 'k',linewidth=3)\n",
    "\n",
    "# theta = np.linspace(-np.pi/2, np.pi/2, 1000)\n",
    "# fit = np.rad2deg(dog(theta, h_imi_a, h_imi_w))\n",
    "# thetaindegree=np.rad2deg(theta)\n",
    "# fitdf=pd.DataFrame({'distance':thetaindegree,'error':fit})\n",
    "# fitdf.plot(x='distance',y='error',color='black')"
   ]
  },
  {
   "cell_type": "code",
   "execution_count": 19,
   "metadata": {},
   "outputs": [
    {
     "name": "stdout",
     "output_type": "stream",
     "text": [
      "finished part 0 of 10\n",
      "finished part 1 of 10\n",
      "finished part 2 of 10\n",
      "finished part 3 of 10\n",
      "finished part 4 of 10\n",
      "finished part 5 of 10\n",
      "finished part 6 of 10\n",
      "finished part 7 of 10\n",
      "finished part 8 of 10\n",
      "finished part 9 of 10\n",
      "sign: 1.0 p-value: 0.037 p2p: 3.1450231000269717\n"
     ]
    }
   ],
   "source": [
    "# high conflict influence of IMI  ##test A\n",
    "n_permutations=1000\n",
    "params = np.empty((n_permutations, 3))\n",
    "for i_perm in range(n_permutations):\n",
    "        np.random.shuffle(d_h_imi)\n",
    "        params[i_perm, :] = fit_dog(h_error_rad, d_h_imi)\n",
    "        if i_perm%100==0:\n",
    "            print(\"finished part %i of 10\" %(i_perm/100))\n",
    "a_permuted = params[:, 0]\n",
    "w_permuted = params[:, 1]\n",
    "\n",
    "theta = np.linspace(-np.pi/2, np.pi/2, 1000)\n",
    "fit = dog(theta, h_imi_a, h_imi_w) # x,a,w\n",
    "p2p_actual = np.sign(h_imi_a) * (fit.max() - fit.min())\n",
    "\n",
    "# Compute the permuted peak-to-peaks.\n",
    "p2p_permuted = np.empty(n_permutations)\n",
    "for i in range(n_permutations):\n",
    "    fit = dog(theta, a_permuted[i], w_permuted[i])\n",
    "    peak_to_peak = np.sign(a_permuted[i]) * (fit.max() - fit.min())\n",
    "    p2p_permuted[i] = peak_to_peak\n",
    "\n",
    "c_p = np.count_nonzero(np.abs(p2p_permuted) >abs(p2p_actual)) / float(n_permutations)\n",
    "print('sign:',np.sign(h_imi_a),'p-value:', c_p, 'p2p:', np.rad2deg(p2p_actual))\n",
    "# should NOT be significant"
   ]
  },
  {
   "cell_type": "code",
   "execution_count": 20,
   "metadata": {},
   "outputs": [
    {
     "name": "stdout",
     "output_type": "stream",
     "text": [
      "0.8890710803947123\n"
     ]
    },
    {
     "data": {
      "text/plain": [
       "[<matplotlib.lines.Line2D at 0x1624dd3d8c8>]"
      ]
     },
     "execution_count": 20,
     "metadata": {},
     "output_type": "execute_result"
    },
    {
     "data": {
      "image/png": "[encoded data removed]",
      "text/plain": [
       "<Figure size 648x432 with 1 Axes>"
      ]
     },
     "metadata": {
      "needs_background": "light"
     },
     "output_type": "display_data"
    }
   ],
   "source": [
    "# low conflict influence of IMI  ##test A\n",
    "d_stim = np.array(ldf['d_l_imi'])\n",
    "error = np.array(ldf['angle_diff'])\n",
    "ind = ~np.isnan(error)\n",
    "diff_rad = np.deg2rad(d_stim[ind])\n",
    "error_rad = np.deg2rad(error[ind])\n",
    "\n",
    "ind = diff_rad.argsort()\n",
    "diff_rad = diff_rad[ind]\n",
    "resid_error_rad = error_rad[ind]\n",
    "\n",
    "bin_step=40\n",
    "bin_width=200\n",
    "\n",
    "# Pad the data.\n",
    "diff_rad = np.concatenate([diff_rad[int(-bin_width / 2):] -  np.pi, diff_rad,\n",
    "                            diff_rad[:int(bin_width / 2)] +  np.pi])\n",
    "resid_error_rad = np.concatenate([resid_error_rad[int(-bin_width / 2):],\n",
    "                                    resid_error_rad,\n",
    "                                    resid_error_rad[:int(bin_width / 2)]])\n",
    "\n",
    "# Compute the running average.\n",
    "bin_starts = np.arange(0, len(diff_rad) - bin_width, bin_step)\n",
    "bin_stops = bin_starts + bin_width\n",
    "diff_means = np.empty(len(bin_starts))\n",
    "error_means = np.empty_like(diff_means)\n",
    "error_sem = np.empty_like(error_means)\n",
    "for i in range(len(bin_starts)):\n",
    "    diff_means[i] = diff_rad[bin_starts[i]:bin_stops[i]].mean()\n",
    "    error_selection = resid_error_rad[bin_starts[i]:bin_stops[i]]\n",
    "    error_means[i] = error_selection.mean()\n",
    "    error_sem[i] = error_selection.std() / np.sqrt(len(error_selection))\n",
    "    \n",
    "# Convert to degrees.\n",
    "diff_means = np.rad2deg(diff_means)\n",
    "error_means = np.rad2deg(error_means)\n",
    "error_sem = np.rad2deg(error_sem)\n",
    "\n",
    "plt.figure(figsize=(9, 6))\n",
    "    \n",
    "# Plot the data.\n",
    "plt.plot(diff_means, error_means, 'k', linewidth=1)\n",
    "plt.fill_between(diff_means,\n",
    "                    error_means - error_sem,\n",
    "                    error_means + error_sem,\n",
    "                    alpha=0.25, color='k')\n",
    "\n",
    "plt.axhline(0, color='k', linestyle='--', linewidth=1)\n",
    "\n",
    "theta = np.linspace(-np.pi/2, np.pi/2, 1000)\n",
    "fit = np.rad2deg(dog(theta, l_imi_a, l_imi_w))\n",
    "p2p = np.sign(l_imi_a) * (fit.max() - fit.min())\n",
    "print(p2p)\n",
    "plt.plot(np.rad2deg(theta), fit, 'k',linewidth=3)\n",
    "# theta = np.linspace(-np.pi/2, np.pi/2, 1000)\n",
    "# fit = np.rad2deg(dog(theta, l_imi_a, l_imi_w))\n",
    "# thetaindegree=np.rad2deg(theta)\n",
    "# fitdf=pd.DataFrame({'distance':thetaindegree,'error':fit})\n",
    "# fitdf.plot(x='distance',y='error',color='black')"
   ]
  },
  {
   "cell_type": "code",
   "execution_count": 21,
   "metadata": {},
   "outputs": [
    {
     "name": "stdout",
     "output_type": "stream",
     "text": [
      "finished part 0 of 10\n",
      "finished part 1 of 10\n",
      "finished part 2 of 10\n",
      "finished part 3 of 10\n",
      "finished part 4 of 10\n",
      "finished part 5 of 10\n",
      "finished part 6 of 10\n",
      "finished part 7 of 10\n",
      "finished part 8 of 10\n",
      "finished part 9 of 10\n",
      "sign: 1.0 p-value: 0.675 p2p: 0.8890710803947123\n"
     ]
    }
   ],
   "source": [
    "# low conflict influence of IMI  ##test A\n",
    "n_permutations=1000\n",
    "params = np.empty((n_permutations, 3))\n",
    "for i_perm in range(n_permutations):\n",
    "        np.random.shuffle(d_l_imi)\n",
    "        params[i_perm, :] = fit_dog(l_error_rad, d_l_imi)\n",
    "        if i_perm%100==0:\n",
    "            print(\"finished part %i of 10\" %(i_perm/100))\n",
    "a_permuted = params[:, 0]\n",
    "w_permuted = params[:, 1]\n",
    "\n",
    "theta = np.linspace(-np.pi/2, np.pi/2, 1000)\n",
    "fit = dog(theta, l_imi_a, l_imi_w) # x,a,w\n",
    "p2p_actual = np.sign(l_imi_a) * (fit.max() - fit.min())\n",
    "\n",
    "# Compute the permuted peak-to-peaks.\n",
    "p2p_permuted = np.empty(n_permutations)\n",
    "for i in range(n_permutations):\n",
    "    fit = dog(theta, a_permuted[i], w_permuted[i])\n",
    "    peak_to_peak = np.sign(a_permuted[i]) * (fit.max() - fit.min())\n",
    "    p2p_permuted[i] = peak_to_peak\n",
    "\n",
    "c_p = np.count_nonzero(np.abs(p2p_permuted) >abs(p2p_actual)) / float(n_permutations)\n",
    "print('sign:',np.sign(l_imi_a),'p-value:', c_p, 'p2p:', np.rad2deg(p2p_actual))\n",
    "# should be significant"
   ]
  },
  {
   "cell_type": "code",
   "execution_count": 22,
   "metadata": {},
   "outputs": [],
   "source": [
    "# test difference bt low and high imi  ##test A\n",
    "theta = np.linspace(-np.pi/2, np.pi/2, 1000)\n",
    "fitl = dog(theta, l_imi_a, l_imi_w) # x,a,w\n",
    "p2p_l = np.sign(l_imi_a) * (fitl.max() - fitl.min())\n",
    "fith = dog(theta, h_imi_a, h_imi_w) # x,a,w\n",
    "p2p_h = np.sign(h_imi_a) * (fith.max() - fith.min())\n",
    "true_dif=p2p_l-p2p_h"
   ]
  },
  {
   "cell_type": "code",
   "execution_count": 23,
   "metadata": {},
   "outputs": [],
   "source": [
    "l_error_rad_C= np.copy(l_error_rad)\n",
    "h_error_rad_C= np.copy(h_error_rad)\n",
    "d_l_imi_C=np.copy(d_l_imi)\n",
    "d_h_imi_C=np.copy(d_h_imi)\n",
    "\n",
    "both_d_imi=np.hstack((d_l_imi_C,d_h_imi_C))\n",
    "both_error_rad=np.hstack((l_error_rad_C,h_error_rad_C))"
   ]
  },
  {
   "cell_type": "code",
   "execution_count": 24,
   "metadata": {},
   "outputs": [
    {
     "name": "stdout",
     "output_type": "stream",
     "text": [
      "finished part 0 of 10\n",
      "finished part 1 of 10\n",
      "finished part 2 of 10\n",
      "finished part 3 of 10\n",
      "finished part 4 of 10\n",
      "finished part 5 of 10\n",
      "finished part 6 of 10\n",
      "finished part 7 of 10\n",
      "finished part 8 of 10\n",
      "finished part 9 of 10\n",
      "p-value: 0.426 low - high p2p: -2.255952019632259\n"
     ]
    }
   ],
   "source": [
    "datapoints=both_d_imi.shape[0]//2\n",
    "n_permutations=1000\n",
    "dif_p2p = np.empty(n_permutations)\n",
    "l_para_relabel = np.empty((n_permutations, 3))\n",
    "h_para_relabel = np.empty((n_permutations, 3))\n",
    "for i_perm in range(n_permutations):\n",
    "        llabel=np.random.choice(both_d_imi.shape[0], size=datapoints, replace=False).tolist()\n",
    "        hlabel=[fruit for fruit in range(both_d_imi.shape[0]) if fruit not in llabel]\n",
    "        l_imi_relabel=both_d_imi[llabel]\n",
    "        h_imi_relabel=both_d_imi[hlabel]\n",
    "        l_err_relabel=both_error_rad[llabel]\n",
    "        h_err_relabel=both_error_rad[hlabel]\n",
    "        l_para_relabel[i_perm, :] = fit_dog(l_err_relabel, l_imi_relabel)\n",
    "        h_para_relabel[i_perm, :] = fit_dog(h_err_relabel, h_imi_relabel)\n",
    "        theta = np.linspace(-np.pi/2, np.pi/2, 1000)\n",
    "        fitl = dog(theta, l_para_relabel[i_perm, 0], l_para_relabel[i_perm, 1]) # x,a,w\n",
    "        p2p_l = np.sign(l_para_relabel[i_perm, 0]) * (fitl.max() - fitl.min())\n",
    "        fith = dog(theta, h_para_relabel[i_perm, 0], h_para_relabel[i_perm, 1]) # x,a,w\n",
    "        p2p_h = np.sign(h_para_relabel[i_perm, 0]) * (fith.max() - fith.min())\n",
    "        relabel_dif=p2p_l-p2p_h\n",
    "        \n",
    "        dif_p2p[i_perm]=relabel_dif\n",
    "        if i_perm%100==0:\n",
    "            print(\"finished part %i of 10\" %(i_perm/100))\n",
    "\n",
    "\n",
    "c_p = np.count_nonzero(np.abs(dif_p2p) >abs(true_dif)) / float(n_permutations)\n",
    "print('p-value:', c_p, 'low - high p2p:', np.rad2deg(true_dif))\n",
    "# should be significant"
   ]
  }
 ],
 "metadata": {
  "kernelspec": {
   "display_name": "Python 3",
   "language": "python",
   "name": "python3"
  },
  "language_info": {
   "codemirror_mode": {
    "name": "ipython",
    "version": 3
   },
   "file_extension": ".py",
   "mimetype": "text/x-python",
   "name": "python",
   "nbconvert_exporter": "python",
   "pygments_lexer": "ipython3",
   "version": "3.7.6"
  }
 },
 "nbformat": 4,
 "nbformat_minor": 4
}
