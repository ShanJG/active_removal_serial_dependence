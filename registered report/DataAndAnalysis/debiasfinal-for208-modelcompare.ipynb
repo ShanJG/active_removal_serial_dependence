{
 "cells": [
  {
   "cell_type": "code",
   "execution_count": 2,
   "metadata": {},
   "outputs": [],
   "source": [
    "import os\n",
    "\n",
    "import pandas as pd\n",
    "import numpy as np\n",
    "from scipy import stats\n",
    "from scipy import io as sio\n",
    "from scipy.optimize import least_squares\n",
    "import matplotlib.pyplot as plt\n",
    "from matplotlib import patches"
   ]
  },
  {
   "cell_type": "code",
   "execution_count": 3,
   "metadata": {},
   "outputs": [],
   "source": [
    "def wrp(x):\n",
    "    bigger90=x>np.pi/2\n",
    "    smaller90=x<-np.pi/2\n",
    "    x[bigger90]=x[bigger90]-np.pi\n",
    "    x[smaller90]=x[smaller90]+np.pi\n",
    "    return x\n",
    "def wrpdeg(x):\n",
    "    bigger90=x>90\n",
    "    smaller90=x<-90\n",
    "    x[bigger90]=x[bigger90]-180\n",
    "    x[smaller90]=x[smaller90]+180\n",
    "    return x"
   ]
  },
  {
   "cell_type": "code",
   "execution_count": 8,
   "metadata": {},
   "outputs": [
    {
     "name": "stdout",
     "output_type": "stream",
     "text": [
      "208.0\n"
     ]
    }
   ],
   "source": [
    "df=pd.read_csv('sub208_rt_rs_deidentify.csv')\n",
    "# final subjects\n",
    "print(df.shape[0]/120)"
   ]
  },
  {
   "cell_type": "code",
   "execution_count": 9,
   "metadata": {},
   "outputs": [
    {
     "data": {
      "text/html": [
       "<div>\n",
       "<style scoped>\n",
       "    .dataframe tbody tr th:only-of-type {\n",
       "        vertical-align: middle;\n",
       "    }\n",
       "\n",
       "    .dataframe tbody tr th {\n",
       "        vertical-align: top;\n",
       "    }\n",
       "\n",
       "    .dataframe thead th {\n",
       "        text-align: right;\n",
       "    }\n",
       "</style>\n",
       "<table border=\"1\" class=\"dataframe\">\n",
       "  <thead>\n",
       "    <tr style=\"text-align: right;\">\n",
       "      <th></th>\n",
       "      <th>abserror</th>\n",
       "      <th>deabserror</th>\n",
       "    </tr>\n",
       "    <tr>\n",
       "      <th>id</th>\n",
       "      <th></th>\n",
       "      <th></th>\n",
       "    </tr>\n",
       "  </thead>\n",
       "  <tbody>\n",
       "    <tr>\n",
       "      <th>1</th>\n",
       "      <td>25.362832</td>\n",
       "      <td>9.274336</td>\n",
       "    </tr>\n",
       "    <tr>\n",
       "      <th>2</th>\n",
       "      <td>25.868421</td>\n",
       "      <td>12.631579</td>\n",
       "    </tr>\n",
       "    <tr>\n",
       "      <th>3</th>\n",
       "      <td>10.273504</td>\n",
       "      <td>9.529915</td>\n",
       "    </tr>\n",
       "    <tr>\n",
       "      <th>4</th>\n",
       "      <td>27.517241</td>\n",
       "      <td>9.767241</td>\n",
       "    </tr>\n",
       "    <tr>\n",
       "      <th>5</th>\n",
       "      <td>28.252174</td>\n",
       "      <td>11.347826</td>\n",
       "    </tr>\n",
       "    <tr>\n",
       "      <th>...</th>\n",
       "      <td>...</td>\n",
       "      <td>...</td>\n",
       "    </tr>\n",
       "    <tr>\n",
       "      <th>204</th>\n",
       "      <td>13.271930</td>\n",
       "      <td>5.640351</td>\n",
       "    </tr>\n",
       "    <tr>\n",
       "      <th>205</th>\n",
       "      <td>31.901786</td>\n",
       "      <td>26.892857</td>\n",
       "    </tr>\n",
       "    <tr>\n",
       "      <th>206</th>\n",
       "      <td>7.965217</td>\n",
       "      <td>5.347826</td>\n",
       "    </tr>\n",
       "    <tr>\n",
       "      <th>207</th>\n",
       "      <td>25.333333</td>\n",
       "      <td>11.903509</td>\n",
       "    </tr>\n",
       "    <tr>\n",
       "      <th>208</th>\n",
       "      <td>25.736842</td>\n",
       "      <td>13.429825</td>\n",
       "    </tr>\n",
       "  </tbody>\n",
       "</table>\n",
       "<p>208 rows × 2 columns</p>\n",
       "</div>"
      ],
      "text/plain": [
       "      abserror  deabserror\n",
       "id                        \n",
       "1    25.362832    9.274336\n",
       "2    25.868421   12.631579\n",
       "3    10.273504    9.529915\n",
       "4    27.517241    9.767241\n",
       "5    28.252174   11.347826\n",
       "..         ...         ...\n",
       "204  13.271930    5.640351\n",
       "205  31.901786   26.892857\n",
       "206   7.965217    5.347826\n",
       "207  25.333333   11.903509\n",
       "208  25.736842   13.429825\n",
       "\n",
       "[208 rows x 2 columns]"
      ]
     },
     "execution_count": 9,
     "metadata": {},
     "output_type": "execute_result"
    }
   ],
   "source": [
    "# precision ACROSS subjects\n",
    "rdf=df[df['debadtrial']!=True]\n",
    "precisiondf=rdf[['id','abserror','deabserror']].groupby('id').mean()\n",
    "precisiondf"
   ]
  },
  {
   "cell_type": "code",
   "execution_count": 7,
   "metadata": {},
   "outputs": [
    {
     "name": "stdout",
     "output_type": "stream",
     "text": [
      "1-item trial\n",
      "10.207627751401889  ±  5.586757097212392\n",
      "3-item trial\n",
      "20.541134704046506  ±  8.547422458215115\n"
     ]
    }
   ],
   "source": [
    "print(\"1-item trial\")\n",
    "print(np.mean(np.array(precisiondf['deabserror'])),\" ± \",np.std(np.array(precisiondf['deabserror'])))\n",
    "print(\"3-item trial\")\n",
    "print(np.mean(np.array(precisiondf['abserror'])),\" ± \",np.std(np.array(precisiondf['abserror'])))"
   ]
  },
  {
   "cell_type": "code",
   "execution_count": 8,
   "metadata": {},
   "outputs": [
    {
     "name": "stdout",
     "output_type": "stream",
     "text": [
      "-0.8527801179443977\n"
     ]
    }
   ],
   "source": [
    "deallmask=df['debadtrial']==True\n",
    "deallfmask=df['debadtrial']!=True\n",
    "df.loc[deallmask, 'deerror'] = np.nan\n",
    "meanbias=np.nanmean(np.array(df['deerror']))\n",
    "print(meanbias)\n",
    "# print(df.loc[deallfmask, 'deerror'][0:20])\n",
    "df.loc[deallfmask, 'deerror']=wrpdeg(df.loc[deallfmask, 'deerror']-meanbias)\n",
    "# print(df.loc[deallfmask, 'deerror'][0:20])\n",
    "hdf=df[df['trialconflict']==2]\n",
    "ldf=df[df['trialconflict']==1]\n",
    "hdftc=hdf[hdf['testc']==1]\n",
    "ldftc=ldf[ldf['testc']==1]"
   ]
  },
  {
   "cell_type": "code",
   "execution_count": 9,
   "metadata": {},
   "outputs": [
    {
     "name": "stderr",
     "output_type": "stream",
     "text": [
      "C:\\ProgramData\\Anaconda3\\lib\\site-packages\\pandas\\core\\indexing.py:965: SettingWithCopyWarning: \n",
      "A value is trying to be set on a copy of a slice from a DataFrame.\n",
      "Try using .loc[row_indexer,col_indexer] = value instead\n",
      "\n",
      "See the caveats in the documentation: https://pandas.pydata.org/pandas-docs/stable/user_guide/indexing.html#returning-a-view-versus-a-copy\n",
      "  self.obj[item] = s\n"
     ]
    }
   ],
   "source": [
    "#### Remove bad trial\n",
    "h_badde_mask=hdf['debadtrial']==True\n",
    "hdf.loc[h_badde_mask, 'deerror'] = np.nan\n",
    "l_badde_mask=ldf['debadtrial']==True\n",
    "ldf.loc[l_badde_mask, 'deerror'] = np.nan\n",
    "\n",
    "hpmidirec=np.array(hdf['pmiori'])\n",
    "himidirec=np.array(hdf['imiori'])\n",
    "hcdirec=np.array(hdf['cori'])\n",
    "hdedirec=np.array(hdf['deori'])\n",
    "hdeerror=np.array(hdf['deerror'])\n",
    "\n",
    "lpmidirec=np.array(ldf['pmiori'])\n",
    "limidirec=np.array(ldf['imiori'])\n",
    "lcdirec=np.array(ldf['cori'])\n",
    "ldedirec=np.array(ldf['deori'])\n",
    "ldeerror=np.array(ldf['deerror'])\n",
    "\n",
    "\n",
    "h_ind = ~np.isnan(hdeerror)\n",
    "h_pmi = np.deg2rad(hpmidirec[h_ind])\n",
    "h_imi = np.deg2rad(himidirec[h_ind])\n",
    "h_c = np.deg2rad(hcdirec[h_ind])\n",
    "h_de = np.deg2rad(hdedirec[h_ind])\n",
    "\n",
    "l_ind = ~np.isnan(ldeerror)\n",
    "l_pmi = np.deg2rad(lpmidirec[l_ind])\n",
    "l_imi = np.deg2rad(limidirec[l_ind])\n",
    "l_c = np.deg2rad(lcdirec[l_ind])\n",
    "l_de = np.deg2rad(ldedirec[l_ind])\n",
    "\n",
    "h_deerror = np.deg2rad(hdeerror[h_ind])\n",
    "l_deerror = np.deg2rad(ldeerror[l_ind])\n",
    "\n",
    "highdf=pd.DataFrame(data={'pmi':h_pmi,'imi':h_imi,'c':h_c,'de':h_de,'de_error':h_deerror})\n",
    "lowdf=pd.DataFrame(data={'pmi':l_pmi,'imi':l_imi,'c':l_c,'de':l_de,'de_error':l_deerror})"
   ]
  },
  {
   "cell_type": "code",
   "execution_count": 10,
   "metadata": {},
   "outputs": [],
   "source": [
    "def dog(x, a, w):\n",
    "    c = np.sqrt(2) / np.exp(-0.5)\n",
    "    return x * a * w * c * np.exp(-(w * x) ** 2)\n",
    "\n",
    "\n",
    "def fit_dog(y, x):\n",
    "\n",
    "    def _solver(params):\n",
    "        a, w = params\n",
    "        return y - dog(x, a, w)\n",
    "\n",
    "    min_a = -np.pi/2\n",
    "    max_a = np.pi/2\n",
    "\n",
    "    min_w = 0.8\n",
    "    max_w = 8.0\n",
    "\n",
    "    min_cost = np.inf\n",
    "    for _ in range(200):\n",
    "        params_0 = [np.random.rand() * (max_a - min_a) + min_a,\n",
    "                    np.random.rand() * (max_w - min_w) + min_w]\n",
    "        try:\n",
    "            result = least_squares(_solver, params_0,\n",
    "                                   bounds=([min_a, min_w],\n",
    "                                           [max_a, max_w]))\n",
    "        except ValueError:\n",
    "            continue\n",
    "        if result['cost'] < min_cost:\n",
    "            best_params, min_cost = result['x'], result['cost']\n",
    "    try:\n",
    "        return best_params[0], best_params[1], min_cost\n",
    "    except UnboundLocalError:\n",
    "        return np.nan, np.nan, min_cost"
   ]
  },
  {
   "cell_type": "code",
   "execution_count": 11,
   "metadata": {},
   "outputs": [],
   "source": [
    "def indirect(a1, w1,a2,w2,imi,c,de):\n",
    "    d_c_imi=wrp(imi-c)\n",
    "    bias_c=dog(d_c_imi, a1, w1)\n",
    "    c_prime=wrp(c+bias_c)\n",
    "    d_de_cprime=wrp(c_prime-de)\n",
    "    bias_de = dog(d_de_cprime, a2, w2)\n",
    "\n",
    "    return bias_de\n",
    "\n",
    "def fit_indirect(y, imi,c,de):\n",
    "\n",
    "    def _solver(params):\n",
    "        a1, w1,a2,w2 = params\n",
    "        return y - indirect(a1, w1,a2,w2,imi,c,de)\n",
    "\n",
    "    min_a = -np.pi/2\n",
    "    max_a = np.pi/2\n",
    "\n",
    "    min_w = 0.8\n",
    "    max_w = 8.0\n",
    "\n",
    "    min_cost = np.inf\n",
    "    for _ in range(200):\n",
    "        params_0 = [np.random.rand() * (max_a - min_a) + min_a,\n",
    "                    np.random.rand() * (max_w - min_w) + min_w,\n",
    "                    np.random.rand() * (max_a - min_a) + min_a,\n",
    "                    np.random.rand() * (max_w - min_w) + min_w]\n",
    "        try:\n",
    "            result = least_squares(_solver, params_0,\n",
    "                                   bounds=([min_a, min_w,min_a, min_w],[max_a, max_w,max_a, max_w]))\n",
    "        except ValueError:\n",
    "            continue\n",
    "        if result['cost'] < min_cost:\n",
    "            best_params, min_cost = result['x'], result['cost']\n",
    "    try:\n",
    "        return best_params, min_cost\n",
    "    except UnboundLocalError:\n",
    "        return np.nan, np.nan\n",
    "    \n",
    "def direct(a1, w1,imi,de):\n",
    "    d_de_imi=wrp(imi-de)\n",
    "    bias_de = dog(d_de_imi, a1, w1)\n",
    "\n",
    "    return bias_de\n",
    "\n",
    "def fit_direct(y, imi,de):\n",
    "\n",
    "    def _solver(params):\n",
    "        a1, w1 = params\n",
    "        return y - direct(a1, w1,imi,de)\n",
    "\n",
    "    min_a = -np.pi/2\n",
    "    max_a = np.pi/2\n",
    "\n",
    "    min_w = 0.8\n",
    "    max_w = 8.0\n",
    "\n",
    "    min_cost = np.inf\n",
    "    for _ in range(200):\n",
    "        params_0 = [np.random.rand() * (max_a - min_a) + min_a,\n",
    "                    np.random.rand() * (max_w - min_w) + min_w]\n",
    "        try:\n",
    "            result = least_squares(_solver, params_0,\n",
    "                                   bounds=([min_a, min_w],[max_a, max_w]))\n",
    "        except ValueError:\n",
    "            continue\n",
    "        if result['cost'] < min_cost:\n",
    "            best_params, min_cost = result['x'], result['cost']\n",
    "    try:\n",
    "        return best_params, min_cost\n",
    "    except UnboundLocalError:\n",
    "        return np.nan, np.nan\n",
    "    \n",
    "def fit_zero(y):\n",
    "\n",
    "    def _solver(params):\n",
    "        a1, w1 = params\n",
    "        return y - 0\n",
    "\n",
    "    min_a = -np.pi/2\n",
    "    max_a = np.pi/2\n",
    "\n",
    "    min_w = 0.8\n",
    "    max_w = 8.0\n",
    "\n",
    "    min_cost = np.inf\n",
    "    for _ in range(200):\n",
    "        params_0 = [np.random.rand() * (max_a - min_a) + min_a,\n",
    "                    np.random.rand() * (max_w - min_w) + min_w]\n",
    "        try:\n",
    "            result = least_squares(_solver, params_0,\n",
    "                                   bounds=([min_a, min_w],[max_a, max_w]))\n",
    "        except ValueError:\n",
    "            continue\n",
    "        if result['cost'] < min_cost:\n",
    "            best_params, min_cost = result['x'], result['cost']\n",
    "    try:\n",
    "        return best_params, min_cost\n",
    "    except UnboundLocalError:\n",
    "        return np.nan, np.nan"
   ]
  },
  {
   "cell_type": "code",
   "execution_count": 13,
   "metadata": {},
   "outputs": [
    {
     "name": "stdout",
     "output_type": "stream",
     "text": [
      "HIGH indirect model AICc:\n",
      "-32944.264850113104\n",
      "HIGH direct model AICc:\n",
      "-32913.818855246784\n",
      "HIGH null model AICc:\n",
      "-32915.51398204353\n"
     ]
    }
   ],
   "source": [
    "# AIC=n*log(SSR/n)+2k\n",
    "# AICc=AIC+2k(k+1)/(n-k-1)\n",
    "\n",
    "h_indirect_para,h_indirect_SSR=fit_indirect(h_deerror, h_imi,h_c,h_de)\n",
    "h_indirect_SSR=h_indirect_SSR*2\n",
    "n=len(h_deerror)\n",
    "n_para=4\n",
    "print('HIGH indirect model AICc:')\n",
    "print(n*np.log(h_indirect_SSR/n)+2*n_para+2*n_para*(n_para+1)/(n-n_para-1))\n",
    "\n",
    "h_direct_para,h_direct_SSR=fit_direct(h_deerror, h_imi,h_de)\n",
    "h_direct_SSR=h_direct_SSR*2\n",
    "n=len(h_deerror)\n",
    "n_para=2\n",
    "print('HIGH direct model AICc:')\n",
    "print(n*np.log(h_direct_SSR/n)+2*n_para+2*n_para*(n_para+1)/(n-n_para-1))\n",
    "\n",
    "h_zero_para,h_zero_SSR=fit_zero(h_deerror)\n",
    "h_zero_SSR=h_zero_SSR*2\n",
    "n=len(h_deerror)\n",
    "n_para=0\n",
    "print('HIGH null model AICc:')\n",
    "print(n*np.log(h_zero_SSR/n)+2*n_para+2*n_para*(n_para+1)/(n-n_para-1))"
   ]
  },
  {
   "cell_type": "code",
   "execution_count": 14,
   "metadata": {},
   "outputs": [
    {
     "name": "stdout",
     "output_type": "stream",
     "text": [
      "28.750868069575517\n",
      "1.6951267967451713\n"
     ]
    }
   ],
   "source": [
    "print(32944.264850113104-32915.51398204353)\n",
    "print(32915.51398204353-32913.818855246784)"
   ]
  },
  {
   "cell_type": "code",
   "execution_count": 15,
   "metadata": {},
   "outputs": [
    {
     "data": {
      "text/plain": [
       "array([0.2773078 , 2.55709676, 0.02319403, 1.51296336])"
      ]
     },
     "execution_count": 15,
     "metadata": {},
     "output_type": "execute_result"
    }
   ],
   "source": [
    "h_indirect_para"
   ]
  },
  {
   "cell_type": "code",
   "execution_count": 15,
   "metadata": {},
   "outputs": [
    {
     "name": "stdout",
     "output_type": "stream",
     "text": [
      "34.696079189652664\n",
      "3.785821125442453\n"
     ]
    }
   ],
   "source": [
    "# print(31809.308371585277-31774.612292395625)\n",
    "# print(31774.612292395625-31770.826471270182)"
   ]
  },
  {
   "cell_type": "code",
   "execution_count": 16,
   "metadata": {},
   "outputs": [
    {
     "name": "stdout",
     "output_type": "stream",
     "text": [
      "LOW indirect model AICc:\n",
      "-31811.325838695928\n",
      "LOW direct model AICc:\n",
      "-31772.827485468948\n",
      "LOW zero model AICc:\n",
      "-31776.612630376192\n"
     ]
    }
   ],
   "source": [
    "# AIC=n*log(SSR/n)+2k\n",
    "# AICc=AIC+2k(k+1)/(n-k-1)\n",
    "\n",
    "l_indirect_para,l_indirect_SSR=fit_indirect(l_deerror, l_imi,l_c,l_de)\n",
    "l_indirect_SSR=l_indirect_SSR*2\n",
    "n=len(l_deerror)\n",
    "n_para=4\n",
    "print('LOW indirect model AICc:')\n",
    "print(n*np.log(l_indirect_SSR/n)+2*n_para+2*n_para*(n_para+1)/(n-n_para-1))\n",
    "\n",
    "l_direct_para,l_direct_SSR=fit_direct(l_deerror, l_imi,l_de)\n",
    "l_direct_SSR=l_direct_SSR*2\n",
    "n=len(l_deerror)\n",
    "n_para=2\n",
    "print('LOW direct model AICc:')\n",
    "print(n*np.log(l_direct_SSR/n)+2*n_para+2*n_para*(n_para+1)/(n-n_para-1))\n",
    "\n",
    "l_zero_para,l_zero_SSR=fit_zero(l_deerror)\n",
    "l_zero_SSR=l_zero_SSR*2\n",
    "n=len(l_deerror)\n",
    "n_para=0\n",
    "print('LOW zero model AICc:')\n",
    "print(n*np.log(l_zero_SSR/n)+2*n_para+2*n_para*(n_para+1)/(n-n_para-1))"
   ]
  },
  {
   "cell_type": "code",
   "execution_count": 17,
   "metadata": {},
   "outputs": [
    {
     "name": "stdout",
     "output_type": "stream",
     "text": [
      "34.71320831973571\n",
      "3.785144907244103\n"
     ]
    }
   ],
   "source": [
    "print(31811.325838695928-31776.612630376192)\n",
    "print(31776.612630376192-31772.827485468948)"
   ]
  },
  {
   "cell_type": "code",
   "execution_count": 18,
   "metadata": {},
   "outputs": [
    {
     "data": {
      "text/plain": [
       "array([0.13122957, 1.90767793, 0.02326077, 1.18985393])"
      ]
     },
     "execution_count": 18,
     "metadata": {},
     "output_type": "execute_result"
    }
   ],
   "source": [
    "l_indirect_para"
   ]
  }
 ],
 "metadata": {
  "kernelspec": {
   "display_name": "Python 3",
   "language": "python",
   "name": "python3"
  },
  "language_info": {
   "codemirror_mode": {
    "name": "ipython",
    "version": 3
   },
   "file_extension": ".py",
   "mimetype": "text/x-python",
   "name": "python",
   "nbconvert_exporter": "python",
   "pygments_lexer": "ipython3",
   "version": "3.7.6"
  }
 },
 "nbformat": 4,
 "nbformat_minor": 4
}
